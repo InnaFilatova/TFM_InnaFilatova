{
 "cells": [
  {
   "cell_type": "markdown",
   "metadata": {},
   "source": [
    "<p style=\"text-align: center; font-size: 30px;\">\n",
    "    <strong>\n",
    "          Scraper for Amazon\n",
    "    </strong>\n",
    "</p>\n",
    "\n",
    "----\n",
    "\n",
    "<b style=\"text-align: left; font-size: 18px;\">\n",
    "    The following project is specifically designed to scrape publicly available data concerning user reviews for goods listed on amazon.es\n",
    "</b>\n",
    "\n",
    "----\n",
    "\n",
    "<b style=\"font-size: 20px;\">Project Roadmap</b>\n",
    "\n",
    "-  <p style=\"font-size: 18px;\">Create a list of target URLs</p>\n",
    "-  <p style=\"font-size: 18px;\">Develop a program to automatically access specified websites and extract their data</p>\n",
    "-  <p style=\"font-size: 18px;\">Save the acquired data in a DataFrame for future applications</p>\n",
    "---\n",
    "\n",
    "<b style=\"font-size: 20px;\">Required tools</b>\n",
    "\n",
    "<blockquote style=\"background-color: #f0f0f0; padding: 10px; border-left: 10px solid #3498db; font-size: 18px;\">\n",
    "    <a href=\"https://www.python.org/downloads/\" target=\"_blank\" rel=\"noopener noreferrer\">Latest version of Python</a>\n",
    "</blockquote>\n",
    "\n",
    "<blockquote style=\"background-color: #f0f0f0; padding: 10px; border-left: 10px solid #3498db; font-size: 18px;\">\n",
    "    <a href=\"https://googlechromelabs.github.io/chrome-for-testing/\" target=\"_blank\" rel=\"noopener noreferrer\">Latest version of WebDriver</a>\n",
    "</blockquote>\n",
    "\n",
    "<blockquote style=\"background-color: #f0f0f0; padding: 10px; border-left: 10px solid #3498db; font-size: 18px;\">\n",
    "    Selenuim library for scraping purposes\n",
    "</blockquote>"
   ]
  },
  {
   "cell_type": "code",
   "execution_count": 2,
   "metadata": {},
   "outputs": [
    {
     "name": "stdout",
     "output_type": "stream",
     "text": [
      "Requirement already satisfied: selenium in /Applications/anaconda3/lib/python3.12/site-packages (4.22.0)\n",
      "Requirement already satisfied: urllib3<3,>=1.26 in /Applications/anaconda3/lib/python3.12/site-packages (from urllib3[socks]<3,>=1.26->selenium) (2.2.2)\n",
      "Requirement already satisfied: trio~=0.17 in /Applications/anaconda3/lib/python3.12/site-packages (from selenium) (0.26.0)\n",
      "Requirement already satisfied: trio-websocket~=0.9 in /Applications/anaconda3/lib/python3.12/site-packages (from selenium) (0.11.1)\n",
      "Requirement already satisfied: certifi>=2021.10.8 in /Applications/anaconda3/lib/python3.12/site-packages (from selenium) (2024.6.2)\n",
      "Requirement already satisfied: typing_extensions>=4.9.0 in /Applications/anaconda3/lib/python3.12/site-packages (from selenium) (4.11.0)\n",
      "Requirement already satisfied: websocket-client>=1.8.0 in /Applications/anaconda3/lib/python3.12/site-packages (from selenium) (1.8.0)\n",
      "Requirement already satisfied: attrs>=23.2.0 in /Applications/anaconda3/lib/python3.12/site-packages (from trio~=0.17->selenium) (23.2.0)\n",
      "Requirement already satisfied: sortedcontainers in /Applications/anaconda3/lib/python3.12/site-packages (from trio~=0.17->selenium) (2.4.0)\n",
      "Requirement already satisfied: idna in /Applications/anaconda3/lib/python3.12/site-packages (from trio~=0.17->selenium) (3.7)\n",
      "Requirement already satisfied: outcome in /Applications/anaconda3/lib/python3.12/site-packages (from trio~=0.17->selenium) (1.3.0.post0)\n",
      "Requirement already satisfied: sniffio>=1.3.0 in /Applications/anaconda3/lib/python3.12/site-packages (from trio~=0.17->selenium) (1.3.0)\n",
      "Requirement already satisfied: wsproto>=0.14 in /Applications/anaconda3/lib/python3.12/site-packages (from trio-websocket~=0.9->selenium) (1.2.0)\n",
      "Requirement already satisfied: pysocks!=1.5.7,<2.0,>=1.5.6 in /Applications/anaconda3/lib/python3.12/site-packages (from urllib3[socks]<3,>=1.26->selenium) (1.7.1)\n",
      "Requirement already satisfied: h11<1,>=0.9.0 in /Applications/anaconda3/lib/python3.12/site-packages (from wsproto>=0.14->trio-websocket~=0.9->selenium) (0.14.0)\n"
     ]
    }
   ],
   "source": [
    "!pip install selenium"
   ]
  },
  {
   "cell_type": "markdown",
   "metadata": {},
   "source": [
    "<blockquote style=\"background-color: #f0f0f0; padding: 10px; border-left: 10px solid #3498db; font-size: 18px;\">\n",
    "    Pandas library for data storage and manipulation\n",
    "</blockquote>"
   ]
  },
  {
   "cell_type": "code",
   "execution_count": 4,
   "metadata": {},
   "outputs": [
    {
     "name": "stdout",
     "output_type": "stream",
     "text": [
      "Requirement already satisfied: pandas in /Applications/anaconda3/lib/python3.12/site-packages (2.2.2)\n",
      "Requirement already satisfied: numpy>=1.26.0 in /Applications/anaconda3/lib/python3.12/site-packages (from pandas) (1.26.4)\n",
      "Requirement already satisfied: python-dateutil>=2.8.2 in /Applications/anaconda3/lib/python3.12/site-packages (from pandas) (2.9.0.post0)\n",
      "Requirement already satisfied: pytz>=2020.1 in /Applications/anaconda3/lib/python3.12/site-packages (from pandas) (2024.1)\n",
      "Requirement already satisfied: tzdata>=2022.7 in /Applications/anaconda3/lib/python3.12/site-packages (from pandas) (2023.3)\n",
      "Requirement already satisfied: six>=1.5 in /Applications/anaconda3/lib/python3.12/site-packages (from python-dateutil>=2.8.2->pandas) (1.16.0)\n"
     ]
    }
   ],
   "source": [
    "!pip install pandas"
   ]
  },
  {
   "cell_type": "markdown",
   "metadata": {},
   "source": [
    "<blockquote style=\"background-color: #f0f0f0; padding: 10px; border-left: 10px solid #3498db; font-size: 18px;\">\n",
    "    TQDM library for progress check \n",
    "</blockquote>"
   ]
  },
  {
   "cell_type": "code",
   "execution_count": 6,
   "metadata": {},
   "outputs": [
    {
     "name": "stdout",
     "output_type": "stream",
     "text": [
      "Requirement already satisfied: tqdm in /Applications/anaconda3/lib/python3.12/site-packages (4.66.4)\n"
     ]
    }
   ],
   "source": [
    "!pip install tqdm"
   ]
  },
  {
   "cell_type": "markdown",
   "metadata": {},
   "source": [
    "----\n",
    "<b style=\"font-size: 20px;\">Specification of the target URLs</b>\n",
    "\n",
    "<p style=\"font-size: 18px;\">The same method can be applied to other goods on amazon.es</p>\n",
    "\n",
    "```python\n",
    "base_url = 'https://www.amazon.es/CREATE-THERA-Cafetera-monodosis-semiautom%C3%A1tica/product-reviews/B0BSH8CYN8/ref=cm_cr_getr_d_paging_btm_next_2?ie=UTF8&pageNumber=1&reviewerType=avp_only_reviews'\n",
    "\n",
    "urls = []\n",
    "for i in range(1, 319):\n",
    "    \n",
    "    prefix = base_url[:155]  \n",
    "    suffix = base_url[156:]\n",
    "\n",
    "    updated_url = f\"{prefix}{i}{suffix}\"\n",
    "    \n",
    "    urls.append(updated_url)\n",
    "\n",
    "```\n",
    "----\n",
    "<b style=\"font-size: 20px;\">Automatic interaction with web services</b>\n",
    "\n",
    "<p style=\"font-size: 18px;\">WebDriver is a tool that provides a programmatic interface for interacting with web browsers</p>\n",
    "\n",
    "```python\n",
    "service = Service(DRIVER_PATH)\n",
    "driver = webdriver.Chrome(service=service, options=options)\n",
    "```\n",
    "----\n",
    "\n",
    "<b style=\"font-size: 20px;\">Necessary adgustments for the bot</b>\n",
    "\n",
    "<p style=\"font-size: 18px;\">To avoid restrictions the bot must emulate the behaviour of a human user</p>\n",
    "\n",
    "<p style=\"font-size: 18px;\">This setting allows the bot to send a user-agent string with browser specs, just like a human would</p>\n",
    "\n",
    "```python\n",
    "options.add_argument(\"user-agent=Mozilla/5.0 (Windows NT 10.0; Win64; x64) AppleWebKit/537.36 (KHTML, like Gecko) Chrome/91.0.4472.124 Safari/537.36\")\n",
    "\n",
    "\n",
    "```\n",
    "\n",
    "<p style=\"font-size: 18px;\">Freezing the process for random time periods also helps to avoid detection</p>\n",
    "\n",
    "```python\n",
    "time.sleep(random.randint(1, 3))\n",
    "```\n",
    "----\n",
    "<p style=\"text-align: center; font-size: 25px;\">\n",
    "    <strong>\n",
    "          The final code\n",
    "    </strong>\n",
    "</p>\n",
    "\n",
    "---"
   ]
  },
  {
   "cell_type": "code",
   "execution_count": 35,
   "metadata": {},
   "outputs": [
    {
     "name": "stderr",
     "output_type": "stream",
     "text": [
      "Processing URLs: 100%|███████████████████████| 318/318 [11:59<00:00,  2.26s/URL]"
     ]
    },
    {
     "name": "stdout",
     "output_type": "stream",
     "text": [
      "Done.\n",
      "Saved 10 reviews in amazon_reviews.csv\n"
     ]
    },
    {
     "name": "stderr",
     "output_type": "stream",
     "text": [
      "\n"
     ]
    }
   ],
   "source": [
    "from selenium import webdriver\n",
    "from selenium.webdriver.common.by import By\n",
    "from selenium.webdriver.chrome.service import Service\n",
    "from selenium.webdriver.chrome.options import Options\n",
    "import pandas as pd\n",
    "\n",
    "import time\n",
    "import random\n",
    "from tqdm import tqdm\n",
    "\n",
    "def get_urls():\n",
    "    base_url = 'https://www.amazon.es/CREATE-THERA-Cafetera-monodosis-semiautom%C3%A1tica/product-reviews/B0BSH8CYN8/ref=cm_cr_getr_d_paging_btm_next_2?ie=UTF8&pageNumber=1&reviewerType=avp_only_reviews'\n",
    "    list_urls = []\n",
    "\n",
    "    for i in range(1, 319):\n",
    "    \n",
    "        prefix = base_url[:155]  \n",
    "        suffix = base_url[156:]\n",
    "    \n",
    "        #saltar páginas\n",
    "        updated_url = f\"{prefix}{i}{suffix}\"\n",
    "    \n",
    "        list_urls.append(updated_url)\n",
    "    \n",
    "    return list_urls\n",
    "\n",
    "def scrape_reviews(urls):\n",
    "    \n",
    "    options = Options()\n",
    "    options.add_argument('--headless') \n",
    "    options.add_argument('--no-sandbox')\n",
    "    options.add_argument('--disable-dev-shm-usage')\n",
    "    options.add_argument(\"user-agent=Mozilla/5.0 (Windows NT 10.0; Win64; x64) AppleWebKit/537.36 (KHTML, like Gecko) Chrome/91.0.4472.124 Safari/537.36\")\n",
    "\n",
    "\n",
    "    DRIVER_PATH = '/Users/innafilatova/Desktop/project_cafetera/chromedriver'\n",
    "\n",
    "    service = Service(DRIVER_PATH)\n",
    "    driver = webdriver.Chrome(service=service, options=options)\n",
    "    \n",
    "    reviews = []\n",
    "    \n",
    "    for url in tqdm(urls, desc='Processing URLs', unit='URL'): \n",
    "        \n",
    "        driver.get(url)\n",
    "        \n",
    "        time.sleep(random.randint(1, 3))\n",
    "\n",
    "\n",
    "        # Extracción de reseñas\n",
    "        review_blocks = driver.find_elements(By.CSS_SELECTOR, '.a-section.review')\n",
    "        for review_block in review_blocks:\n",
    "            title = review_block.find_element(By.CSS_SELECTOR, '.review-title-content').text.strip()\n",
    "            rating = review_block.find_element(By.CSS_SELECTOR, '.a-icon-alt').get_attribute('textContent').strip()\n",
    "            body = review_block.find_element(By.CSS_SELECTOR, '[data-hook=\"review-body\"]').text.strip()\n",
    "            author = review_block.find_element(By.CSS_SELECTOR, '.a-profile-name').text.strip()\n",
    "            date = review_block.find_element(By.CSS_SELECTOR, '.review-date').text.strip()\n",
    "\n",
    "            reviews.append({\n",
    "                'title': title,\n",
    "                'rating': rating,\n",
    "                'body': body,\n",
    "                'author': author,\n",
    "                'date': date,\n",
    "            })\n",
    "    \n",
    "    print(\"Done.\")\n",
    "    driver.quit()\n",
    "    return reviews\n",
    "\n",
    "# Descargar datos obtenidos\n",
    "def save_to_csv(reviews, filename='amazon_reviews.csv'):\n",
    "    df = pd.DataFrame(reviews)\n",
    "    df.to_csv(filename, index=False, encoding='utf-8')\n",
    "\n",
    "if __name__ == \"__main__\":\n",
    "\n",
    "    urls = get_urls()\n",
    "    reviews = scrape_reviews(urls)\n",
    "    save_to_csv(reviews, 'amazon_reviews.csv')\n",
    "    print(f'Saved {len(reviews)} reviews in amazon_reviews.csv')"
   ]
  },
  {
   "cell_type": "markdown",
   "metadata": {},
   "source": [
    "---\n",
    "<b style=\"font-size: 20px;\">Saving data in a DataFrame</b>\n"
   ]
  },
  {
   "cell_type": "code",
   "execution_count": 25,
   "metadata": {
    "scrolled": true
   },
   "outputs": [
    {
     "data": {
      "text/html": [
       "<div>\n",
       "<style scoped>\n",
       "    .dataframe tbody tr th:only-of-type {\n",
       "        vertical-align: middle;\n",
       "    }\n",
       "\n",
       "    .dataframe tbody tr th {\n",
       "        vertical-align: top;\n",
       "    }\n",
       "\n",
       "    .dataframe thead th {\n",
       "        text-align: right;\n",
       "    }\n",
       "</style>\n",
       "<table border=\"1\" class=\"dataframe\">\n",
       "  <thead>\n",
       "    <tr style=\"text-align: right;\">\n",
       "      <th></th>\n",
       "      <th>title</th>\n",
       "      <th>rating</th>\n",
       "      <th>body</th>\n",
       "      <th>author</th>\n",
       "      <th>date</th>\n",
       "    </tr>\n",
       "  </thead>\n",
       "  <tbody>\n",
       "    <tr>\n",
       "      <th>0</th>\n",
       "      <td>preciosa</td>\n",
       "      <td>5,0 de 5 estrellas</td>\n",
       "      <td>a mi marido le encanta como sale el cafe</td>\n",
       "      <td>Noelia</td>\n",
       "      <td>Revisado en España el 12 de junio de 2024</td>\n",
       "    </tr>\n",
       "    <tr>\n",
       "      <th>1</th>\n",
       "      <td>Buena cafetera pésimas instrucciones</td>\n",
       "      <td>4,0 de 5 estrellas</td>\n",
       "      <td>Llegó con el depósito del agua roto, me puse e...</td>\n",
       "      <td>Pedro Maria Alonso Villaro</td>\n",
       "      <td>Revisado en España el 31 de marzo de 2023</td>\n",
       "    </tr>\n",
       "    <tr>\n",
       "      <th>2</th>\n",
       "      <td>Muy linda y buena pero fragil</td>\n",
       "      <td>4,0 de 5 estrellas</td>\n",
       "      <td>La cafetera es muy linda, el estilo es muy chu...</td>\n",
       "      <td>Alexis Vaquero</td>\n",
       "      <td>Revisado en España el 23 de enero de 2024</td>\n",
       "    </tr>\n",
       "    <tr>\n",
       "      <th>3</th>\n",
       "      <td>Buena cafetera</td>\n",
       "      <td>4,0 de 5 estrellas</td>\n",
       "      <td>Después de un mes usándola aprovecho para pone...</td>\n",
       "      <td>An</td>\n",
       "      <td>Revisado en España el 6 de febrero de 2022</td>\n",
       "    </tr>\n",
       "    <tr>\n",
       "      <th>4</th>\n",
       "      <td>Hace un cafè muy Bueno .</td>\n",
       "      <td>4,0 de 5 estrellas</td>\n",
       "      <td>Si la temperatura es demasiado alta cosa que s...</td>\n",
       "      <td>Xavier B.</td>\n",
       "      <td>Revisado en España el 27 de noviembre de 2023</td>\n",
       "    </tr>\n",
       "  </tbody>\n",
       "</table>\n",
       "</div>"
      ],
      "text/plain": [
       "                                  title              rating  \\\n",
       "0                              preciosa  5,0 de 5 estrellas   \n",
       "1  Buena cafetera pésimas instrucciones  4,0 de 5 estrellas   \n",
       "2         Muy linda y buena pero fragil  4,0 de 5 estrellas   \n",
       "3                        Buena cafetera  4,0 de 5 estrellas   \n",
       "4              Hace un cafè muy Bueno .  4,0 de 5 estrellas   \n",
       "\n",
       "                                                body  \\\n",
       "0           a mi marido le encanta como sale el cafe   \n",
       "1  Llegó con el depósito del agua roto, me puse e...   \n",
       "2  La cafetera es muy linda, el estilo es muy chu...   \n",
       "3  Después de un mes usándola aprovecho para pone...   \n",
       "4  Si la temperatura es demasiado alta cosa que s...   \n",
       "\n",
       "                       author                                           date  \n",
       "0                      Noelia      Revisado en España el 12 de junio de 2024  \n",
       "1  Pedro Maria Alonso Villaro      Revisado en España el 31 de marzo de 2023  \n",
       "2              Alexis Vaquero      Revisado en España el 23 de enero de 2024  \n",
       "3                          An     Revisado en España el 6 de febrero de 2022  \n",
       "4                   Xavier B.  Revisado en España el 27 de noviembre de 2023  "
      ]
     },
     "execution_count": 25,
     "metadata": {},
     "output_type": "execute_result"
    }
   ],
   "source": [
    "# Descargar datos en DataFrame\n",
    "data = pd.read_csv('amazon_reviews.csv')\n",
    "\n",
    "data.head()"
   ]
  },
  {
   "cell_type": "markdown",
   "metadata": {},
   "source": [
    "Limpieza de texto"
   ]
  },
  {
   "cell_type": "code",
   "execution_count": null,
   "metadata": {},
   "outputs": [],
   "source": []
  }
 ],
 "metadata": {
  "kernelspec": {
   "display_name": "Python 3 (ipykernel)",
   "language": "python",
   "name": "python3"
  },
  "language_info": {
   "codemirror_mode": {
    "name": "ipython",
    "version": 3
   },
   "file_extension": ".py",
   "mimetype": "text/x-python",
   "name": "python",
   "nbconvert_exporter": "python",
   "pygments_lexer": "ipython3",
   "version": "3.12.2"
  }
 },
 "nbformat": 4,
 "nbformat_minor": 4
}
